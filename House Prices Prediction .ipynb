{
 "cells": [
  {
   "cell_type": "markdown",
   "id": "1c9b5bf5",
   "metadata": {},
   "source": [
    "# Import libraries "
   ]
  },
  {
   "cell_type": "code",
   "execution_count": null,
   "id": "8d910474",
   "metadata": {},
   "outputs": [],
   "source": [
    "import pandas as pd\n",
    "import numpy as np\n",
    "import math\n",
    "from sklearn.model_selection import train_test_split\n"
   ]
  },
  {
   "cell_type": "code",
   "execution_count": null,
   "id": "a8243bac",
   "metadata": {},
   "outputs": [],
   "source": [
    "import math\n",
    "from sklearn.model_selection import train_test_split\n"
   ]
  },
  {
   "cell_type": "markdown",
   "id": "b3ae0ab1",
   "metadata": {},
   "source": [
    "# Reading Data"
   ]
  },
  {
   "cell_type": "code",
   "execution_count": null,
   "id": "833c8788",
   "metadata": {},
   "outputs": [],
   "source": [
    "train_data=pd.read_csv('train.csv')\n",
    "test_data=pd.read_csv('test.csv')\n",
    "ytest=pd.read_csv('sample_submission.csv')\n",
    "test_data"
   ]
  },
  {
   "cell_type": "code",
   "execution_count": null,
   "id": "e822a337",
   "metadata": {},
   "outputs": [],
   "source": [
    "test_data=pd.concat([test_data,ytest['SalePrice']],axis=1)\n",
    "test_data"
   ]
  },
  {
   "cell_type": "code",
   "execution_count": null,
   "id": "aa9f91c0",
   "metadata": {},
   "outputs": [],
   "source": [
    "data =pd.concat([train_data, test_data],axis=0)\n",
    "data[\"LandContour\"]"
   ]
  },
  {
   "cell_type": "markdown",
   "id": "4cb23ce2",
   "metadata": {},
   "source": [
    "# Data cleaning & preprocessing \n"
   ]
  },
  {
   "cell_type": "code",
   "execution_count": null,
   "id": "b682af5e",
   "metadata": {},
   "outputs": [],
   "source": [
    "data.corr()['SalePrice'].sort_values(ascending=False)"
   ]
  },
  {
   "cell_type": "code",
   "execution_count": null,
   "id": "5982c444",
   "metadata": {},
   "outputs": [],
   "source": [
    "data.describe()"
   ]
  },
  {
   "cell_type": "code",
   "execution_count": null,
   "id": "ad22685c",
   "metadata": {},
   "outputs": [],
   "source": [
    "data=data.drop(['BsmtFinType1', 'BsmtFinSF1','BsmtFinType2','BsmtFinSF2','BsmtUnfSF','TotalBsmtSF','MasVnrType',\n",
    "        'MasVnrArea','ExterQual','ExterCond','BsmtFullBath','BsmtHalfBath','PoolArea','PoolQC','Fence','MiscFeature',\n",
    "          'MiscVal','SaleType','MSZoning','Street','Alley','LotShape','Condition2','LandSlope','GarageCars',\n",
    "                'GarageQual','GarageCond','PavedDrive','Condition2','Condition1'], axis=1)\n",
    "data"
   ]
  },
  {
   "cell_type": "code",
   "execution_count": null,
   "id": "cdf83ac5",
   "metadata": {},
   "outputs": [],
   "source": [
    "from sklearn import preprocessing\n",
    "object_data=data.select_dtypes(include =['object'])\n",
    "le=preprocessing.LabelEncoder()\n",
    "for i in range (object_data.shape[1]):\n",
    "     object_data.iloc[:,i]=le.fit_transform(object_data.iloc[:,i])\n",
    "     non_obj_data=data.select_dtypes(exclude =['object'])\n",
    "     data=pd.concat([object_data,non_obj_data],axis=1)\n"
   ]
  },
  {
   "cell_type": "code",
   "execution_count": null,
   "id": "2bdc0d75",
   "metadata": {},
   "outputs": [],
   "source": [
    "data=data.dropna()\n",
    "data"
   ]
  },
  {
   "cell_type": "code",
   "execution_count": null,
   "id": "52aa9a06",
   "metadata": {},
   "outputs": [],
   "source": [
    "data.isnull().sum()"
   ]
  },
  {
   "cell_type": "code",
   "execution_count": null,
   "id": "10879535",
   "metadata": {},
   "outputs": [],
   "source": [
    "data.shape"
   ]
  },
  {
   "cell_type": "code",
   "execution_count": null,
   "id": "439b0216",
   "metadata": {},
   "outputs": [],
   "source": [
    "data.info()"
   ]
  },
  {
   "cell_type": "code",
   "execution_count": null,
   "id": "89ec3cfb",
   "metadata": {},
   "outputs": [],
   "source": [
    "x = data.drop('SalePrice', axis=1)\n",
    "y = data[['SalePrice']]   "
   ]
  },
  {
   "cell_type": "code",
   "execution_count": null,
   "id": "6acdd939",
   "metadata": {},
   "outputs": [],
   "source": [
    "from sklearn.preprocessing import StandardScaler\n",
    "s = StandardScaler()\n",
    "xs= s.fit_transform(x)\n",
    "train_x=pd.DataFrame(xs)\n",
    "train_x\n"
   ]
  },
  {
   "cell_type": "markdown",
   "id": "177988f3",
   "metadata": {},
   "source": [
    "# Spliting data "
   ]
  },
  {
   "cell_type": "code",
   "execution_count": null,
   "id": "2b829b4f",
   "metadata": {},
   "outputs": [],
   "source": [
    "x_train, x_test, y_train, y_test = train_test_split(x, y, test_size = 0.35, random_state = 1, shuffle = True)"
   ]
  },
  {
   "cell_type": "markdown",
   "id": "aecb2e32",
   "metadata": {},
   "source": [
    "# Models"
   ]
  },
  {
   "cell_type": "markdown",
   "id": "32eafc63",
   "metadata": {},
   "source": [
    "### 1-Random Forest"
   ]
  },
  {
   "cell_type": "code",
   "execution_count": null,
   "id": "c213878c",
   "metadata": {},
   "outputs": [],
   "source": [
    "from sklearn.ensemble import RandomForestRegressor\n",
    "from sklearn.datasets import make_regression\n",
    "x, y = make_regression(n_features=80, n_informative=2,random_state=0, shuffle=False)\n",
    "model1 = RandomForestRegressor(max_depth=10, random_state=0)\n",
    "model1.fit(x_train, y_train)\n",
    "model1\n",
    "predict_x=model1.predict(x_test)\n"
   ]
  },
  {
   "cell_type": "code",
   "execution_count": null,
   "id": "ef9de9bd",
   "metadata": {},
   "outputs": [],
   "source": [
    "predict_x=model1.predict(x_train)\n"
   ]
  },
  {
   "cell_type": "code",
   "execution_count": null,
   "id": "d4c2f9bc",
   "metadata": {},
   "outputs": [],
   "source": [
    "print(\"Train Score \", model1.score(x_train, y_train))\n",
    "print(\"Test Score \" , model1.score(x_test, y_test))"
   ]
  },
  {
   "cell_type": "markdown",
   "id": "f96491bd",
   "metadata": {},
   "source": [
    "### 2-KNN"
   ]
  },
  {
   "cell_type": "code",
   "execution_count": null,
   "id": "ad92d185",
   "metadata": {},
   "outputs": [],
   "source": [
    "\n",
    "from sklearn.neighbors import KNeighborsRegressor\n",
    "from sklearn import metrics\n",
    "model2 = KNeighborsRegressor()\n",
    "model2.fit(x_train, y_train)\n",
    "predict_x=model2.predict(x_test)\n"
   ]
  },
  {
   "cell_type": "code",
   "execution_count": null,
   "id": "ffa761ba",
   "metadata": {},
   "outputs": [],
   "source": [
    "predict_x=model2.predict(x_train)"
   ]
  },
  {
   "cell_type": "code",
   "execution_count": null,
   "id": "c34cc1bb",
   "metadata": {},
   "outputs": [],
   "source": [
    "print(\"Train Score \", model2.score(x_train, y_train))\n",
    "print(\"Test Score \" , model2.score(x_test, y_test))"
   ]
  },
  {
   "cell_type": "markdown",
   "id": "2405c04a",
   "metadata": {},
   "source": [
    "\n",
    "### 3- Decision tree"
   ]
  },
  {
   "cell_type": "code",
   "execution_count": null,
   "id": "5190513f",
   "metadata": {},
   "outputs": [],
   "source": [
    "from sklearn.tree import DecisionTreeRegressor\n",
    "from sklearn import metrics\n",
    "model3 = DecisionTreeRegressor( max_depth = 3)\n",
    "model3.fit(x_train, y_train)\n",
    "\n",
    "predict_x=model3.predict(x_test)"
   ]
  },
  {
   "cell_type": "code",
   "execution_count": null,
   "id": "cd090a1b",
   "metadata": {},
   "outputs": [],
   "source": [
    "predict_x=model3.predict(x_train)"
   ]
  },
  {
   "cell_type": "code",
   "execution_count": null,
   "id": "348159b9",
   "metadata": {},
   "outputs": [],
   "source": [
    "print(\"Train Score \", model3.score(x_train, y_train))\n",
    "print(\"Test Score \" , model3.score(x_test, y_test))"
   ]
  },
  {
   "cell_type": "markdown",
   "id": "0025a8e7",
   "metadata": {},
   "source": [
    "### 4- Neural network"
   ]
  },
  {
   "cell_type": "code",
   "execution_count": null,
   "id": "218f5a69",
   "metadata": {},
   "outputs": [],
   "source": [
    "from sklearn.neural_network import MLPRegressor\n",
    "from sklearn.metrics import confusion_matrix\n",
    "\n",
    "model4 = MLPRegressor(activation='tanh',  # can be also identity , logistic , relu\n",
    "                                   solver='lbfgs',  # can be also sgd , adam\n",
    "                                   learning_rate='constant',  # can be also invscaling , adaptive\n",
    "                                   early_stopping=False,\n",
    "                                   alpha=0.0001, hidden_layer_sizes=(100, 3), random_state = 33)\n",
    "\n",
    "model4.fit(x_train, y_train)\n",
    "predict_x=model4.predict(x_test)\n",
    "\n"
   ]
  },
  {
   "cell_type": "code",
   "execution_count": null,
   "id": "9b12639b",
   "metadata": {},
   "outputs": [],
   "source": [
    "predict_x=model4.predict(x_train)"
   ]
  },
  {
   "cell_type": "code",
   "execution_count": null,
   "id": "4b139d10",
   "metadata": {},
   "outputs": [],
   "source": [
    "print(\"Train Score \", model4.score(x_train, y_train))\n",
    "print(\"Test Score \" , model4.score(x_test, y_test))"
   ]
  },
  {
   "cell_type": "markdown",
   "id": "190130db",
   "metadata": {},
   "source": [
    "### 5- SVM"
   ]
  },
  {
   "cell_type": "code",
   "execution_count": null,
   "id": "b6d3e5a7",
   "metadata": {},
   "outputs": [],
   "source": [
    "\n",
    "from sklearn.svm import SVR\n",
    "model5 = SVR()\n",
    "model5.fit(x_train, y_train)\n",
    "\n",
    "predict_x=model5.predict(x_test)"
   ]
  },
  {
   "cell_type": "code",
   "execution_count": null,
   "id": "63b67079",
   "metadata": {},
   "outputs": [],
   "source": [
    "predict_x=model5.predict(x_train)"
   ]
  },
  {
   "cell_type": "code",
   "execution_count": null,
   "id": "08011dab",
   "metadata": {},
   "outputs": [],
   "source": [
    "print(\"Train Score \", model5.score(x_train, y_train))\n",
    "print(\"Test Score \" , model5.score(x_test, y_test))"
   ]
  },
  {
   "cell_type": "code",
   "execution_count": null,
   "id": "55e63605",
   "metadata": {},
   "outputs": [],
   "source": []
  },
  {
   "cell_type": "code",
   "execution_count": null,
   "id": "9cb43a32",
   "metadata": {},
   "outputs": [],
   "source": []
  },
  {
   "cell_type": "code",
   "execution_count": null,
   "id": "b0f2b848",
   "metadata": {},
   "outputs": [],
   "source": []
  }
 ],
 "metadata": {
  "kernelspec": {
   "display_name": "Python 3.8.7 64-bit",
   "language": "python",
   "name": "python3"
  },
  "language_info": {
   "codemirror_mode": {
    "name": "ipython",
    "version": 3
   },
   "file_extension": ".py",
   "mimetype": "text/x-python",
   "name": "python",
   "nbconvert_exporter": "python",
   "pygments_lexer": "ipython3",
   "version": "3.8.7"
  },
  "vscode": {
   "interpreter": {
    "hash": "7e1082ef2247883644cec5c57fe04fe8c79882e75cac6d9d385c8ae5b7950fa5"
   }
  }
 },
 "nbformat": 4,
 "nbformat_minor": 5
}
